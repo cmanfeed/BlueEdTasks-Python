{
  "nbformat": 4,
  "nbformat_minor": 0,
  "metadata": {
    "colab": {
      "name": "Projeto 01.ipynb",
      "provenance": [],
      "collapsed_sections": [],
      "authorship_tag": "ABX9TyOqJCfHw8U8eDar5P9MeRbL",
      "include_colab_link": true
    },
    "kernelspec": {
      "name": "python3",
      "display_name": "Python 3.9.5 64-bit"
    },
    "language_info": {
      "name": "python",
      "version": "3.9.5"
    },
    "interpreter": {
      "hash": "4d54cc910429c3f09271354dbf23c760d7e386922af1b8d8365844f465e41ec5"
    }
  },
  "cells": [
    {
      "cell_type": "markdown",
      "metadata": {
        "id": "6_a3YEjbGebY"
      },
      "source": [
        "# Projeto 1 - Detetive  "
      ]
    },
    {
      "cell_type": "code",
      "metadata": {
        "colab": {
          "base_uri": "https://localhost:8080/"
        },
        "id": "nQB3Kx_PyUoy",
        "outputId": "fc5af24d-f561-41da-ef32-15b3857f478e"
      },
      "source": [
        "aceite = int(input('Olá boa tarde! Tudo bem? Gostaria de lhe fazer algumas perguntas a respeito de um crime que ocorreu no bairro de Nova Iorque. Você estaria apto para responder?\\n1. Sim, é claro \\U0001F44D\\n0. Não, estou ocupado e não tenho interesse \\U0001F44E\\n\\nResposta:'))\n",
        "\n",
        "if aceite == 1:\n",
        "  r1 = int(input(\"\\nOk, vamos lá então. Estamos investigando o assasinato de Chiquinho José. Pobre homem. Me diga, você telefonou para a vítima?\\n1. Chiquinho morreu? Meu Deus! Eu telefonei pra ele nesse dia!\\n0. Não mesmo.\\n\\nResposta: \"))\n",
        "  if r1 > -1 and r1 < 2:\n",
        "    r2 = int(input(\"\\nChiquinho morreu em sua residência, em Nova Iorque. Você esteve no local do crime?\\n1. Sim, estive nas redondezas. Que horas foi o crime?\\n0. Não. Onde fica isso mesmo?\\n\\nResposta: \"))\n",
        "    if r2 > -1 and r2 < 2:\n",
        "      r3 = int(input(\"\\nTsc, Tsc. Eu faço as perguntas aqui meu chapa \\U0001F9D0. Me diga, você mora perto da vítima?\\n1. Sim... \\U0001F440\\n0. Não, moro mais ao Norte próximo a Manrratan.\\n\\nResposta: \"))\n",
        "      if r3 > -1 and r3 < 2:  \n",
        "        r4 = int(input(\"\\nVocê devia alguma coisa para a vítima?\\n1. Sim... Tomamos uma várias brejas e comemos salgadinhos e eu disse para Chiquinho que iria pagá-lo mas nunca paguei. Nem pretendia \\U0001F605\\n0. Não senhor. Não devo a ninguém, apenas ao Serasa \\U0001F636\\n\\nResposta: \"))\n",
        "        if r4 > -1 and r4 < 2:\n",
        "          r5 = int(input(\"\\nHmmm... Interessante. Pra finalizar, você já trabalhou com a vítima?\\n1. Já. Trabalhamos juntos extraindo ouro das minas do sul.\\n0. Não. Nem sei onde Chiquinho trabalha.\\n\\nResposta: \"))\n",
        "          if r5 > -1 and r4 < 2:\n",
        "            soma = r1 + r2 + r3 + r4 + r5\n",
        "            if soma == 2:\n",
        "              print('--- Suspeita ---')\n",
        "              print('Você poderia me acompanhar até a delegacia para responder mais algumas perguntas?')\n",
        "            elif soma > 2 and soma < 5:\n",
        "              print('--- Cúmplice ---')\n",
        "              print('\"Atenção comando, preciso de reforços para prender um possível cúmplice de assassinato. Repito, sujeito de alta periculosidade.\"')\n",
        "            elif soma == 5:\n",
        "              print('--- Assassino ---')\n",
        "              print('\"Atenção comando, preciso de reforços para prender um possível assassino, repito um possível assassi... PEGUEM ELE, NÃO DEIXEM QUE ELE FUJA, ELE ESTÁ CORRENDO PELO PORTÃO DA FRENTE! \\U0001F5E3\"')\n",
        "            else:\n",
        "              print('--- Inocente ---')\n",
        "              print('Obrigado pela participação meu nobre. Você pode ir pra casa.')\n",
        "          else:\n",
        "            print('Resposta Inválida! Tente Novamente')\n",
        "        else:\n",
        "          print('Resposta Inválida! Tente Novamente')\n",
        "      else:\n",
        "        print('Resposta Inválida! Tente Novamente')\n",
        "    else:\n",
        "      print('Resposta Inválida! Tente Novamente')\n",
        "  else:\n",
        "    print('Resposta Inválida! Tente Novamente')\n",
        "else:\n",
        "  print('Que pena! Agradeço pela atenção.')"
      ],
      "execution_count": 2,
      "outputs": [
        {
          "output_type": "error",
          "ename": "ValueError",
          "evalue": "invalid literal for int() with base 10: ''",
          "traceback": [
            "\u001b[1;31m---------------------------------------------------------------------------\u001b[0m",
            "\u001b[1;31mValueError\u001b[0m                                Traceback (most recent call last)",
            "\u001b[1;32m<ipython-input-2-9702cdc53e5c>\u001b[0m in \u001b[0;36m<module>\u001b[1;34m\u001b[0m\n\u001b[1;32m----> 1\u001b[1;33m \u001b[0maceite\u001b[0m \u001b[1;33m=\u001b[0m \u001b[0mint\u001b[0m\u001b[1;33m(\u001b[0m\u001b[0minput\u001b[0m\u001b[1;33m(\u001b[0m\u001b[1;34m'Olá boa tarde! Tudo bem? Gostaria de lhe fazer algumas perguntas a respeito de um crime que ocorreu no bairro de Nova Iorque. Você estaria apto para responder?\\n1. Sim, é claro \\U0001F44D\\n0. Não, estou ocupado e não tenho interesse \\U0001F44E\\n\\nResposta:'\u001b[0m\u001b[1;33m)\u001b[0m\u001b[1;33m)\u001b[0m\u001b[1;33m\u001b[0m\u001b[1;33m\u001b[0m\u001b[0m\n\u001b[0m\u001b[0;32m      2\u001b[0m \u001b[1;33m\u001b[0m\u001b[0m\n\u001b[0;32m      3\u001b[0m \u001b[1;32mif\u001b[0m \u001b[0maceite\u001b[0m \u001b[1;33m==\u001b[0m \u001b[1;36m1\u001b[0m\u001b[1;33m:\u001b[0m\u001b[1;33m\u001b[0m\u001b[1;33m\u001b[0m\u001b[0m\n\u001b[0;32m      4\u001b[0m   \u001b[0mr1\u001b[0m \u001b[1;33m=\u001b[0m \u001b[0mint\u001b[0m\u001b[1;33m(\u001b[0m\u001b[0minput\u001b[0m\u001b[1;33m(\u001b[0m\u001b[1;34m\"\\nOk, vamos lá então. Estamos investigando o assasinato de Chiquinho José. Pobre homem. Me diga, você telefonou para a vítima?\\n1. Chiquinho morreu? Meu Deus! Eu telefonei pra ele nesse dia!\\n0. Não mesmo.\\n\\nResposta: \"\u001b[0m\u001b[1;33m)\u001b[0m\u001b[1;33m)\u001b[0m\u001b[1;33m\u001b[0m\u001b[1;33m\u001b[0m\u001b[0m\n\u001b[0;32m      5\u001b[0m   \u001b[1;32mif\u001b[0m \u001b[0mr1\u001b[0m \u001b[1;33m>\u001b[0m \u001b[1;33m-\u001b[0m\u001b[1;36m1\u001b[0m \u001b[1;32mand\u001b[0m \u001b[0mr1\u001b[0m \u001b[1;33m<\u001b[0m \u001b[1;36m2\u001b[0m\u001b[1;33m:\u001b[0m\u001b[1;33m\u001b[0m\u001b[1;33m\u001b[0m\u001b[0m\n",
            "\u001b[1;31mValueError\u001b[0m: invalid literal for int() with base 10: ''"
          ]
        }
      ]
    }
  ]
}