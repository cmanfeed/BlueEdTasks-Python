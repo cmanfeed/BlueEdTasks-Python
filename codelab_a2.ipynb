{
  "nbformat": 4,
  "nbformat_minor": 0,
  "metadata": {
    "colab": {
      "name": "Aula 2 - Codelab.ipynb",
      "provenance": [],
      "collapsed_sections": [],
      "include_colab_link": true
    },
    "kernelspec": {
      "name": "python3",
      "display_name": "Python 3.9.5 64-bit"
    },
    "language_info": {
      "name": "python",
      "version": "3.9.5"
    },
    "interpreter": {
      "hash": "4d54cc910429c3f09271354dbf23c760d7e386922af1b8d8365844f465e41ec5"
    }
  },
  "cells": [
    {
      "cell_type": "markdown",
      "metadata": {
        "id": "view-in-github",
        "colab_type": "text"
      },
      "source": [
        "<a href=\"https://colab.research.google.com/github/cmanfeed/BlueEdTasks-Python/blob/main/Aula_2_Codelab.ipynb\" target=\"_parent\"><img src=\"https://colab.research.google.com/assets/colab-badge.svg\" alt=\"Open In Colab\"/></a>"
      ]
    },
    {
      "cell_type": "markdown",
      "metadata": {
        "id": "n_igYcmdk6U9"
      },
      "source": [
        "# **Exercícios para treinar:**"
      ]
    },
    {
      "cell_type": "markdown",
      "metadata": {
        "id": "rRyZR6ZAlEHU"
      },
      "source": [
        "1. **Frase na tela** - Implemente um programa que escreve na tela a frase \"O primeiro programa a gente nunca esquece!\".\n",
        "\n",
        "2. **Etiqueta** - Elabore um programa que escreve seu nome completo na primeira linha, seu endereço na segunda e o CEP e telefone na terceira.\n",
        "\n",
        "3. **Letra de música** - Faça um programa que mostre na tela uma letra de música que você gosta (proibido letras do Justin Bieber).\n",
        "\n",
        "4. **Tabela de notas** - Você foi contratado ou contratada por uma escola pra fazer o sistema de boletim dos alunos. Como primeiro passo, escreva um programa que produza a seguinte saída:\n",
        "```\n",
        "ALUNO (A)  NOTA\n",
        "=========  ====\n",
        "ALINE      9.0\n",
        "MÁRIO      DEZ\n",
        "SÉRGIO     4.5\n",
        "SHIRLEY    7.0\n",
        "```\n",
        "\n",
        "5. **Menu** - Elabore um programa que mostre o seguinte menu na tela:\n",
        "```\n",
        "Cadastro de Clientes\n",
        "0 - Fim\n",
        "1 - Inclui\n",
        "2 - Altera\n",
        "3 - Exclui\n",
        "4 - Consulta\n",
        "Digite uma opção: \n",
        "```\n",
        "Ao digitar um valor para a opção, o programa exibe qual opção foi escolhida.\n",
        "```\n",
        "Você escolheu a opção '0'.\n",
        "```\n",
        "\n",
        "6. **Calculadora de Dano** - Escreva um programa que receba dois valores digitados pelo usuário:\n",
        "  - Quantidade de vida de um monstro (entre 10 e 50);\n",
        "  - Valor do ataque do jogador por turno (entre 5 e 10);\n",
        "  - Baseado nos valores digitados, exiba a quantidade de turnos que o jogador irá demorar para conseguir derrotar o monstro.\n",
        "  - ```\n",
        "    O jogador irá derrotar o monstro em 8 turnos.\n",
        "    ```"
      ]
    },
    {
      "cell_type": "markdown",
      "metadata": {
        "id": "qiI0Lj207f8n"
      },
      "source": [
        "1. Frase na Tela"
      ]
    },
    {
      "cell_type": "code",
      "metadata": {
        "colab": {
          "base_uri": "https://localhost:8080/"
        },
        "id": "mNrO8beK7jX6",
        "outputId": "80fac492-4018-4ede-ad34-4066575a9efd"
      },
      "source": [
        "print(\"O primeiro programa a gente nunca esquece!\")"
      ],
      "execution_count": null,
      "outputs": [
        {
          "output_type": "stream",
          "text": [
            "O primeiro programa a gente nunca esquece!\n"
          ],
          "name": "stdout"
        }
      ]
    },
    {
      "cell_type": "markdown",
      "metadata": {
        "id": "tPgfauiC7sc1"
      },
      "source": [
        "2. Etiqueta"
      ]
    },
    {
      "cell_type": "code",
      "metadata": {
        "colab": {
          "base_uri": "https://localhost:8080/"
        },
        "id": "5c9edFcW7uA3",
        "outputId": "ea85b2e2-6048-4127-be61-37a66e4ee5ee"
      },
      "source": [
        "print(\"Caio Manfredini da Silva Martins\\nRua Bequimão, Quadra 19, Casa 3, Planalto Turu II\\n98981380227\")"
      ],
      "execution_count": null,
      "outputs": [
        {
          "output_type": "stream",
          "text": [
            "Caio Manfredini da Silva Martins\n",
            "Rua Bequimão, Quadra 19, Casa 3, Planalto Turu II\n",
            "98981380227\n"
          ],
          "name": "stdout"
        }
      ]
    },
    {
      "cell_type": "markdown",
      "metadata": {
        "id": "su1_fNBo787K"
      },
      "source": [
        "3. Letra de música"
      ]
    },
    {
      "cell_type": "code",
      "metadata": {
        "colab": {
          "base_uri": "https://localhost:8080/"
        },
        "id": "1WOU0cV-8BMP",
        "outputId": "877b586f-1187-45f7-ea49-71adcfc2aef4"
      },
      "source": [
        "print(\"I'm gonna steer clear\\nI burn up in your atmosphere\\nI'm gonna steer clear\\nCause I'd die if I saw you\\nI'd die if I didn't see you there\\nSo I don't think I'm gonna go to La anymore\")"
      ],
      "execution_count": null,
      "outputs": [
        {
          "output_type": "stream",
          "text": [
            "I'm gonna steer clear\n",
            "I burn up in your atmosphere\n",
            "I'm gonna steer clear\n",
            "Cause I'd die if I saw you\n",
            "I'd die if I didn't see you there\n",
            "So I don't think I'm gonna go to La anymore\n"
          ],
          "name": "stdout"
        }
      ]
    },
    {
      "cell_type": "markdown",
      "metadata": {
        "id": "cMUcacJf8V9P"
      },
      "source": [
        "4. Tabela de notas"
      ]
    },
    {
      "cell_type": "code",
      "metadata": {
        "colab": {
          "base_uri": "https://localhost:8080/"
        },
        "id": "fqbrDjm08XwA",
        "outputId": "2968088d-7dc2-4ee0-90c6-ad527940a930"
      },
      "source": [
        "print('''\n",
        "  ALUNO (A)  NOTA\n",
        "  =========  ====\n",
        "  ALINE      9.0\n",
        "  MÁRIO      DEZ\n",
        "  SÉRGIO     4.5\n",
        "  SHIRLEY    7.0\n",
        "''')"
      ],
      "execution_count": null,
      "outputs": [
        {
          "output_type": "stream",
          "text": [
            "\n",
            "  ALUNO (A)  NOTA\n",
            "  =========  ====\n",
            "  ALINE      9.0\n",
            "  MÁRIO      DEZ\n",
            "  SÉRGIO     4.5\n",
            "  SHIRLEY    7.0\n",
            "\n"
          ],
          "name": "stdout"
        }
      ]
    },
    {
      "cell_type": "markdown",
      "metadata": {
        "id": "UWA5opMN8rUw"
      },
      "source": [
        "5. Menu"
      ]
    },
    {
      "cell_type": "code",
      "metadata": {
        "colab": {
          "base_uri": "https://localhost:8080/"
        },
        "id": "8CjeoZFQ8uvv",
        "outputId": "6b63baf6-22ab-42d0-86fa-6b321c7c3d29"
      },
      "source": [
        "print('''\n",
        "  Cadastro de Clientes\n",
        "  0 - Fim\n",
        "  1 - Inclui\n",
        "  2 - Altera\n",
        "  3 - Exclui\n",
        "  4 - Consulta\n",
        "''')\n",
        "\n",
        "opcao = input(\"Digite uma opção: \")\n",
        "\n",
        "print(f\"Você escolheu a opção '{opcao}'.\")"
      ],
      "execution_count": null,
      "outputs": [
        {
          "output_type": "stream",
          "text": [
            "\n",
            "  Cadastro de Clientes\n",
            "  0 - Fim\n",
            "  1 - Inclui\n",
            "  2 - Altera\n",
            "  3 - Exclui\n",
            "  4 - Consulta\n",
            "\n",
            "Digite uma opção: 3\n",
            "Você escolheu a opção '3'.\n"
          ],
          "name": "stdout"
        }
      ]
    },
    {
      "cell_type": "markdown",
      "metadata": {
        "id": "l72TgzBr9VWW"
      },
      "source": [
        "6. Calculadora de Dano"
      ]
    },
    {
      "cell_type": "code",
      "metadata": {
        "colab": {
          "base_uri": "https://localhost:8080/"
        },
        "id": "LwrQf63x9X4h",
        "outputId": "e39fefa7-9251-40a5-8f3e-a9a387966c96"
      },
      "source": [
        "import math\n",
        "vida_monstro = int(input(\"Informe a quantidade de vidas do monstro (entre 10 e 50): \"))\n",
        "valor_ataque = int(input(\"Informe o valor do ataque do jogador por turno (entre 5 e 10): \"))\n",
        "\n",
        "print(f'O jogador irá derrotar o monstro em {math.ceil(vida_monstro/valor_ataque)} turnos.')"
      ],
      "execution_count": null,
      "outputs": [
        {
          "output_type": "stream",
          "text": [
            "Informe a quantidade de vidas do monstro (entre 10 e 50): 50\n",
            "Informe o valor do ataque do jogador por turno (entre 5 e 10): 3\n",
            "O jogador irá derrotar o monstro em 17 turnos.\n"
          ],
          "name": "stdout"
        }
      ]
    },
    {
      "cell_type": "markdown",
      "metadata": {
        "id": "HqgnPaCGqMPB"
      },
      "source": [
        "# Exercícios"
      ]
    },
    {
      "cell_type": "markdown",
      "metadata": {
        "id": "U-ltrv0jqPBq"
      },
      "source": [
        "## #01 - E os 10% do garçom?**\n",
        "\n",
        "- Defina uma variável para o valor de uma refeição que custou R$ 42,54;\n",
        "\n",
        "- Defina uma variável para o valor da taxa de serviço que é de 10%;\n",
        "\n",
        "- Defina uma variável que calcula o valor total da conta e exiba-o no console com essa formatação: R$ XXXX.XX."
      ]
    },
    {
      "cell_type": "code",
      "metadata": {
        "id": "jbcSv4NFkB1C",
        "colab": {
          "base_uri": "https://localhost:8080/"
        },
        "outputId": "10a64dcb-b52f-47d5-f905-6e990c0c835c"
      },
      "source": [
        "refeicao = 42.54\n",
        "taxa = 10/100\n",
        "\n",
        "total = refeicao + taxa * refeicao\n",
        "print(f'R$ {total:.2f}.')"
      ],
      "execution_count": null,
      "outputs": [
        {
          "output_type": "stream",
          "text": [
            "R$ 46.79.\n"
          ],
          "name": "stdout"
        }
      ]
    },
    {
      "cell_type": "markdown",
      "metadata": {
        "id": "JR3-KgsTqR41"
      },
      "source": [
        "## #02 - Qual o valor do troco?\n",
        "\n",
        "*   Defina uma variável para o valor de uma compra que custou R$100,98;\n",
        "\n",
        "*   Defina uma variável para o valor que o cliente pagou R$150,00;\n",
        "\n",
        "*   Defina uma variável que calcula o valor do troco e exiba-o no console com o valor final arredondado."
      ]
    },
    {
      "cell_type": "code",
      "metadata": {
        "id": "hBf3kE_pksAI",
        "colab": {
          "base_uri": "https://localhost:8080/"
        },
        "outputId": "469235ab-a64c-467b-8bcf-36c6f01a45f3"
      },
      "source": [
        "compra = 100.98\n",
        "pagamento = 150.00\n",
        "\n",
        "troco = pagamento - compra\n",
        "print(f'R$ {troco:.2f}.')"
      ],
      "execution_count": null,
      "outputs": [
        {
          "output_type": "stream",
          "text": [
            "R$ 49.02.\n"
          ],
          "name": "stdout"
        }
      ]
    },
    {
      "cell_type": "markdown",
      "metadata": {
        "id": "2Uu84Uqtkunt"
      },
      "source": [
        "## #03 - Você está na flor da idade?\n",
        "\n",
        "*  Defina uma variável para o valor do ano do nascimento;\n",
        "*  Defina uma variável para o valor do ano atual;\n",
        "*  Defina uma variável que calcula o valor final da idade da pessoa;\n",
        "*  Exiba uma mensagem final dizendo a idade da pessoa e a mensagem \"Você está na flor da idade\"."
      ]
    },
    {
      "cell_type": "code",
      "metadata": {
        "id": "kyXxJV3nk14Z",
        "colab": {
          "base_uri": "https://localhost:8080/"
        },
        "outputId": "b172cd60-24f6-4498-8088-ad4fb9083c48"
      },
      "source": [
        "ano_nascimento = 1997\n",
        "ano_atual = 2021\n",
        "idade = ano_atual - ano_nascimento\n",
        "\n",
        "print(f'Você tem {idade} anos. Você está na flor da idade')"
      ],
      "execution_count": null,
      "outputs": [
        {
          "output_type": "stream",
          "text": [
            "Você tem 24 anos. Você está na flor da idade\n"
          ],
          "name": "stdout"
        }
      ]
    },
    {
      "cell_type": "markdown",
      "metadata": {
        "id": "w1T7s2q0p-pt"
      },
      "source": [
        "# Mini projetos"
      ]
    },
    {
      "cell_type": "markdown",
      "metadata": {
        "id": "meUw7PTwqC-Y"
      },
      "source": [
        "## #01 - Conversor de moedas\n",
        "\n",
        "Crie um programa que solicite um um valor em real ao usuário e converta esse valor, para:\n",
        "\n",
        "- DOLAR,\n",
        "- EURO,\n",
        "- LIBRA ESTERLINA,\n",
        "- DÓLAR CANADENSE,\n",
        "- PESO ARGENTINO,\n",
        "- PESO CHILENO.\n",
        "\n",
        "Para esse exercício você precisará realizar uma pesquisa para saber a cotação de cada moeda em real. Mostrar o resultado no formato $ XXXX.XX"
      ]
    },
    {
      "cell_type": "code",
      "metadata": {
        "id": "q481snSClrXe",
        "colab": {
          "base_uri": "https://localhost:8080/"
        },
        "outputId": "54c6107c-205c-4a48-f6ef-0ba333959543"
      },
      "source": [
        "real = float(input(\"Informe o valor em REAL (R$): \"))\n",
        "\n",
        "print(f'DÓLAR: ${real*0.20:.2f}')\n",
        "print(f'EURO: ${real*0.16:.2f}')\n",
        "print(f'LIBRA ESTERLINA: ${real*0.14:.2f}')\n",
        "print(f'DÓLAR CANADENSE: ${real*0.24:.2f}')\n",
        "print(f'PESO ARGENTINO: ${real*18.85:.2f}')\n",
        "print(f'PESO CHILENO: ${real*142.51:.2f}')"
      ],
      "execution_count": null,
      "outputs": [
        {
          "output_type": "stream",
          "text": [
            "Informe o valor em REAL (R$): 5\n",
            "DÓLAR: $1.00\n",
            "EURO: $0.80\n",
            "LIBRA ESTERLINA: $0.70\n",
            "DÓLAR CANADENSE: $1.20\n",
            "PESO ARGENTINO: $94.25\n",
            "PESO CHILENO: $712.55\n"
          ],
          "name": "stdout"
        }
      ]
    },
    {
      "cell_type": "markdown",
      "metadata": {
        "id": "KK9PIcJ4qIF9"
      },
      "source": [
        "## #02 - Calculadora de aumento de aluguel\n",
        "\n",
        "Vamos construir um programa que irá calcular o aumento anual do seu aluguel em duas partes:\n",
        "\n",
        "### Parte 1\n",
        "A sua calculadora vai receber o `valor do aluguel` e calcular o aumento baseado no `IGPM de 31%`. A calculadora deve apresentar o aluguel reajustado no formato `R$ XXXX.XX`\n",
        "\n",
        "**Exemplo:**\n",
        "```\n",
        "Valor do aluguel = 1000\n",
        "Valor do aluguel reajustado = R$ 1310,00"
      ]
    },
    {
      "cell_type": "code",
      "metadata": {
        "id": "VdjHa9Csl0Lg",
        "colab": {
          "base_uri": "https://localhost:8080/"
        },
        "outputId": "7472c829-32da-41db-a885-55e51732cb2a"
      },
      "source": [
        "aluguel = float(input('Informe o valor do seu aluguel: '))\n",
        "IGPM = 31/100\n",
        "\n",
        "print(f'Valor do aluguel reajustado: R${aluguel + IGPM*aluguel:.2f}')"
      ],
      "execution_count": null,
      "outputs": [
        {
          "output_type": "stream",
          "text": [
            "Informe o valor do seu aluguel: 1000\n",
            "Valor do aluguel reajustado: R$1310.00\n"
          ],
          "name": "stdout"
        }
      ]
    },
    {
      "cell_type": "markdown",
      "metadata": {
        "id": "lKTwnuNMl8rP"
      },
      "source": [
        "### Parte 2\n",
        "Agora, altere sua calculadora para receber além do `valor do aluguel`, o percentual do reajuste no formato `XX%`.  \n",
        "\n",
        "**Dica:** Descubra uma forma de transformar o percentual recebido em um número para efetuar o cálculo.\n",
        "\n",
        "**Exemplo:**\n",
        "```\n",
        "Valor do aluguel = 1000\n",
        "Percentual do reajuste = 31%\n",
        "Valor do aluguel reajustado = R% 1310,00\n",
        "```"
      ]
    },
    {
      "cell_type": "code",
      "metadata": {
        "id": "aw2Zk_9KmA85",
        "colab": {
          "base_uri": "https://localhost:8080/"
        },
        "outputId": "fa9873ba-99c7-475e-9340-6594d5e4436c"
      },
      "source": [
        "aluguel = float(input(\"Valor do aluguel: \"))\n",
        "IGPM = float(input(\"Percentual do reajuste: \").strip('%'))/100\n",
        "\n",
        "print(f'Valor do aluguel reajustado: R${aluguel + IGPM*aluguel:.2f}')"
      ],
      "execution_count": 1,
      "outputs": [
        {
          "output_type": "stream",
          "name": "stdout",
          "text": [
            "Valor do aluguel reajustado: R$14932.96\n"
          ]
        }
      ]
    }
  ]
}